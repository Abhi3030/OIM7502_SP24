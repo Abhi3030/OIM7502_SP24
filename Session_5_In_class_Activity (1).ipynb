{
 "cells": [
  {
   "cell_type": "code",
   "execution_count": 60,
   "metadata": {
    "colab": {
     "base_uri": "https://localhost:8080/",
     "height": 469
    },
    "id": "4i0fqvn4g8-H",
    "outputId": "9ad9d6e3-5551-4dd6-9e98-4547f456af20"
   },
   "outputs": [
    {
     "name": "stdout",
     "output_type": "stream",
     "text": [
      "Requirement already satisfied: pandas in c:\\users\\e10115326\\appdata\\local\\anaconda3\\lib\\site-packages (2.0.3)\n",
      "Requirement already satisfied: python-dateutil>=2.8.2 in c:\\users\\e10115326\\appdata\\local\\anaconda3\\lib\\site-packages (from pandas) (2.8.2)\n",
      "Requirement already satisfied: pytz>=2020.1 in c:\\users\\e10115326\\appdata\\local\\anaconda3\\lib\\site-packages (from pandas) (2023.3.post1)\n",
      "Requirement already satisfied: tzdata>=2022.1 in c:\\users\\e10115326\\appdata\\local\\anaconda3\\lib\\site-packages (from pandas) (2023.3)\n",
      "Requirement already satisfied: numpy>=1.21.0 in c:\\users\\e10115326\\appdata\\local\\anaconda3\\lib\\site-packages (from pandas) (1.24.3)\n",
      "Requirement already satisfied: six>=1.5 in c:\\users\\e10115326\\appdata\\local\\anaconda3\\lib\\site-packages (from python-dateutil>=2.8.2->pandas) (1.16.0)\n"
     ]
    },
    {
     "data": {
      "text/html": [
       "<div>\n",
       "<style scoped>\n",
       "    .dataframe tbody tr th:only-of-type {\n",
       "        vertical-align: middle;\n",
       "    }\n",
       "\n",
       "    .dataframe tbody tr th {\n",
       "        vertical-align: top;\n",
       "    }\n",
       "\n",
       "    .dataframe thead th {\n",
       "        text-align: right;\n",
       "    }\n",
       "</style>\n",
       "<table border=\"1\" class=\"dataframe\">\n",
       "  <thead>\n",
       "    <tr style=\"text-align: right;\">\n",
       "      <th></th>\n",
       "      <th>Sell</th>\n",
       "      <th>\"List\"</th>\n",
       "      <th>\"Living\"</th>\n",
       "      <th>\"Rooms\"</th>\n",
       "      <th>\"Beds\"</th>\n",
       "      <th>\"Baths\"</th>\n",
       "      <th>\"Age\"</th>\n",
       "      <th>\"Acres\"</th>\n",
       "      <th>\"Taxes\"</th>\n",
       "    </tr>\n",
       "  </thead>\n",
       "  <tbody>\n",
       "    <tr>\n",
       "      <th>40</th>\n",
       "      <td>128</td>\n",
       "      <td>135</td>\n",
       "      <td>17</td>\n",
       "      <td>9</td>\n",
       "      <td>4</td>\n",
       "      <td>1</td>\n",
       "      <td>25</td>\n",
       "      <td>0.52</td>\n",
       "      <td>3374</td>\n",
       "    </tr>\n",
       "    <tr>\n",
       "      <th>41</th>\n",
       "      <td>110</td>\n",
       "      <td>120</td>\n",
       "      <td>15</td>\n",
       "      <td>8</td>\n",
       "      <td>4</td>\n",
       "      <td>2</td>\n",
       "      <td>11</td>\n",
       "      <td>0.59</td>\n",
       "      <td>3119</td>\n",
       "    </tr>\n",
       "    <tr>\n",
       "      <th>42</th>\n",
       "      <td>123</td>\n",
       "      <td>130</td>\n",
       "      <td>18</td>\n",
       "      <td>8</td>\n",
       "      <td>4</td>\n",
       "      <td>2</td>\n",
       "      <td>43</td>\n",
       "      <td>0.39</td>\n",
       "      <td>3268</td>\n",
       "    </tr>\n",
       "    <tr>\n",
       "      <th>43</th>\n",
       "      <td>212</td>\n",
       "      <td>230</td>\n",
       "      <td>39</td>\n",
       "      <td>12</td>\n",
       "      <td>5</td>\n",
       "      <td>3</td>\n",
       "      <td>202</td>\n",
       "      <td>4.29</td>\n",
       "      <td>3648</td>\n",
       "    </tr>\n",
       "    <tr>\n",
       "      <th>44</th>\n",
       "      <td>145</td>\n",
       "      <td>145</td>\n",
       "      <td>18</td>\n",
       "      <td>8</td>\n",
       "      <td>4</td>\n",
       "      <td>2</td>\n",
       "      <td>44</td>\n",
       "      <td>0.22</td>\n",
       "      <td>2783</td>\n",
       "    </tr>\n",
       "    <tr>\n",
       "      <th>45</th>\n",
       "      <td>129</td>\n",
       "      <td>135</td>\n",
       "      <td>10</td>\n",
       "      <td>6</td>\n",
       "      <td>3</td>\n",
       "      <td>1</td>\n",
       "      <td>15</td>\n",
       "      <td>1.00</td>\n",
       "      <td>2438</td>\n",
       "    </tr>\n",
       "    <tr>\n",
       "      <th>46</th>\n",
       "      <td>143</td>\n",
       "      <td>145</td>\n",
       "      <td>21</td>\n",
       "      <td>7</td>\n",
       "      <td>4</td>\n",
       "      <td>2</td>\n",
       "      <td>10</td>\n",
       "      <td>1.20</td>\n",
       "      <td>3529</td>\n",
       "    </tr>\n",
       "    <tr>\n",
       "      <th>47</th>\n",
       "      <td>247</td>\n",
       "      <td>252</td>\n",
       "      <td>29</td>\n",
       "      <td>9</td>\n",
       "      <td>4</td>\n",
       "      <td>2</td>\n",
       "      <td>4</td>\n",
       "      <td>1.25</td>\n",
       "      <td>4626</td>\n",
       "    </tr>\n",
       "    <tr>\n",
       "      <th>48</th>\n",
       "      <td>111</td>\n",
       "      <td>120</td>\n",
       "      <td>15</td>\n",
       "      <td>8</td>\n",
       "      <td>3</td>\n",
       "      <td>1</td>\n",
       "      <td>97</td>\n",
       "      <td>1.11</td>\n",
       "      <td>3205</td>\n",
       "    </tr>\n",
       "    <tr>\n",
       "      <th>49</th>\n",
       "      <td>133</td>\n",
       "      <td>145</td>\n",
       "      <td>26</td>\n",
       "      <td>7</td>\n",
       "      <td>3</td>\n",
       "      <td>1</td>\n",
       "      <td>42</td>\n",
       "      <td>0.36</td>\n",
       "      <td>3059</td>\n",
       "    </tr>\n",
       "  </tbody>\n",
       "</table>\n",
       "</div>"
      ],
      "text/plain": [
       "    Sell   \"List\"   \"Living\"   \"Rooms\"   \"Beds\"   \"Baths\"   \"Age\"   \"Acres\"  \\\n",
       "40   128      135         17         9        4         1      25      0.52   \n",
       "41   110      120         15         8        4         2      11      0.59   \n",
       "42   123      130         18         8        4         2      43      0.39   \n",
       "43   212      230         39        12        5         3     202      4.29   \n",
       "44   145      145         18         8        4         2      44      0.22   \n",
       "45   129      135         10         6        3         1      15      1.00   \n",
       "46   143      145         21         7        4         2      10      1.20   \n",
       "47   247      252         29         9        4         2       4      1.25   \n",
       "48   111      120         15         8        3         1      97      1.11   \n",
       "49   133      145         26         7        3         1      42      0.36   \n",
       "\n",
       "     \"Taxes\"  \n",
       "40      3374  \n",
       "41      3119  \n",
       "42      3268  \n",
       "43      3648  \n",
       "44      2783  \n",
       "45      2438  \n",
       "46      3529  \n",
       "47      4626  \n",
       "48      3205  \n",
       "49      3059  "
      ]
     },
     "execution_count": 60,
     "metadata": {},
     "output_type": "execute_result"
    }
   ],
   "source": [
    "!pip3 install pandas\n",
    "import pandas as pd\n",
    "Data1 = pd.read_csv(\"C:/Users/e10115326/Downloads/homes (1).csv\")\n",
    "Data1\n",
    "df = pd.DataFrame(Data1)\n",
    "df\n",
    "#df = globals()['df1']\n",
    "df.head(10)\n",
    "#df.tail(10)"
   ]
  },
  {
   "cell_type": "code",
   "execution_count": 76,
   "metadata": {},
   "outputs": [
    {
     "data": {
      "text/plain": [
       "0     10\n",
       "1      8\n",
       "2      6\n",
       "3      7\n",
       "4      8\n",
       "5      7\n",
       "6      8\n",
       "7      8\n",
       "8     10\n",
       "9      5\n",
       "10     8\n",
       "11     7\n",
       "12     8\n",
       "13     8\n",
       "14     8\n",
       "15     8\n",
       "16     9\n",
       "17     7\n",
       "18     7\n",
       "19     8\n",
       "20     9\n",
       "21     8\n",
       "22     9\n",
       "23     9\n",
       "24     9\n",
       "25     8\n",
       "26     8\n",
       "27     7\n",
       "28    11\n",
       "29     8\n",
       "30     7\n",
       "31     9\n",
       "32     8\n",
       "33     6\n",
       "34     7\n",
       "35     7\n",
       "36    10\n",
       "37     8\n",
       "38    10\n",
       "39     8\n",
       "40     9\n",
       "41     8\n",
       "42     8\n",
       "43    12\n",
       "44     8\n",
       "45     6\n",
       "46     7\n",
       "47     9\n",
       "48     8\n",
       "49     7\n",
       "Name: Rooms, dtype: int64"
      ]
     },
     "execution_count": 76,
     "metadata": {},
     "output_type": "execute_result"
    }
   ],
   "source": [
    "df.columns = df.columns.str.strip()\n",
    "df.describe()\n",
    "df.columns\n",
    "df['Rooms']"
   ]
  },
  {
   "cell_type": "markdown",
   "metadata": {
    "id": "tfxtmqMMiquo"
   },
   "source": [
    "\n",
    "Add the code necessary to describe the dataset\n",
    "Using markdown commentary describe the dataset"
   ]
  },
  {
   "cell_type": "markdown",
   "metadata": {
    "id": "VsfGfPLPH_g_"
   },
   "source": [
    "Observation:"
   ]
  },
  {
   "cell_type": "markdown",
   "metadata": {
    "id": "iopA_yw2I9H5"
   },
   "source": [
    "Conduct at least three EDA techniques on the dataset, include markdown commentary to describe what you are doing, why you are doing it and the results of each analysis"
   ]
  },
  {
   "cell_type": "markdown",
   "metadata": {
    "id": "fmptNhoJJNHd"
   },
   "source": [
    "Analysis1: Box plot of variable to check for outliers and take decision based on that to transform the column to avoid impact on analysis"
   ]
  },
  {
   "cell_type": "code",
   "execution_count": 78,
   "metadata": {
    "colab": {
     "base_uri": "https://localhost:8080/",
     "height": 845
    },
    "id": "Iq0-k8INSybF",
    "outputId": "42c62502-2450-497b-e53e-faa3cd545581"
   },
   "outputs": [
    {
     "name": "stdout",
     "output_type": "stream",
     "text": [
      "Requirement already satisfied: seaborn in c:\\users\\e10115326\\appdata\\local\\anaconda3\\lib\\site-packages (0.12.2)\n",
      "Requirement already satisfied: numpy!=1.24.0,>=1.17 in c:\\users\\e10115326\\appdata\\local\\anaconda3\\lib\\site-packages (from seaborn) (1.24.3)\n",
      "Requirement already satisfied: pandas>=0.25 in c:\\users\\e10115326\\appdata\\local\\anaconda3\\lib\\site-packages (from seaborn) (2.0.3)\n",
      "Requirement already satisfied: matplotlib!=3.6.1,>=3.1 in c:\\users\\e10115326\\appdata\\local\\anaconda3\\lib\\site-packages (from seaborn) (3.7.2)\n",
      "Requirement already satisfied: contourpy>=1.0.1 in c:\\users\\e10115326\\appdata\\local\\anaconda3\\lib\\site-packages (from matplotlib!=3.6.1,>=3.1->seaborn) (1.0.5)\n",
      "Requirement already satisfied: cycler>=0.10 in c:\\users\\e10115326\\appdata\\local\\anaconda3\\lib\\site-packages (from matplotlib!=3.6.1,>=3.1->seaborn) (0.11.0)\n",
      "Requirement already satisfied: fonttools>=4.22.0 in c:\\users\\e10115326\\appdata\\local\\anaconda3\\lib\\site-packages (from matplotlib!=3.6.1,>=3.1->seaborn) (4.25.0)\n",
      "Requirement already satisfied: kiwisolver>=1.0.1 in c:\\users\\e10115326\\appdata\\local\\anaconda3\\lib\\site-packages (from matplotlib!=3.6.1,>=3.1->seaborn) (1.4.4)\n",
      "Requirement already satisfied: packaging>=20.0 in c:\\users\\e10115326\\appdata\\local\\anaconda3\\lib\\site-packages (from matplotlib!=3.6.1,>=3.1->seaborn) (23.1)\n",
      "Requirement already satisfied: pillow>=6.2.0 in c:\\users\\e10115326\\appdata\\local\\anaconda3\\lib\\site-packages (from matplotlib!=3.6.1,>=3.1->seaborn) (10.0.1)\n",
      "Requirement already satisfied: pyparsing<3.1,>=2.3.1 in c:\\users\\e10115326\\appdata\\local\\anaconda3\\lib\\site-packages (from matplotlib!=3.6.1,>=3.1->seaborn) (3.0.9)\n",
      "Requirement already satisfied: python-dateutil>=2.7 in c:\\users\\e10115326\\appdata\\local\\anaconda3\\lib\\site-packages (from matplotlib!=3.6.1,>=3.1->seaborn) (2.8.2)\n",
      "Requirement already satisfied: pytz>=2020.1 in c:\\users\\e10115326\\appdata\\local\\anaconda3\\lib\\site-packages (from pandas>=0.25->seaborn) (2023.3.post1)\n",
      "Requirement already satisfied: tzdata>=2022.1 in c:\\users\\e10115326\\appdata\\local\\anaconda3\\lib\\site-packages (from pandas>=0.25->seaborn) (2023.3)\n",
      "Requirement already satisfied: six>=1.5 in c:\\users\\e10115326\\appdata\\local\\anaconda3\\lib\\site-packages (from python-dateutil>=2.7->matplotlib!=3.6.1,>=3.1->seaborn) (1.16.0)\n"
     ]
    },
    {
     "data": {
      "image/png": "[encoded data removed]",
      "text/plain": [
       "<Figure size 800x600 with 1 Axes>"
      ]
     },
     "metadata": {},
     "output_type": "display_data"
    }
   ],
   "source": [
    "#Boxplot for outlier detection\n",
    "\n",
    "!pip3 install seaborn\n",
    "import seaborn as sns\n",
    "\n",
    "plt.figure(figsize=(8, 6))\n",
    "sns.boxplot(x=df['Taxes'])\n",
    "plt.title('Boxplot of Taxes')\n",
    "plt.show()"
   ]
  },
  {
   "cell_type": "markdown",
   "metadata": {},
   "source": [
    "Observation for Analysis 1: 4 outliers exist in Taxes variable. Which could be treated further based on the business requirement."
   ]
  },
  {
   "cell_type": "markdown",
   "metadata": {
    "id": "iEQ8hzhzPmI3"
   },
   "source": [
    "Analysis 2: Histogram of a variable to understand the distribution of Sell price vairable. It gives idea based on frequency."
   ]
  },
  {
   "cell_type": "code",
   "execution_count": 79,
   "metadata": {
    "colab": {
     "base_uri": "https://localhost:8080/",
     "height": 472
    },
    "id": "sD8ZhzfijeYd",
    "outputId": "f896218a-2323-43a9-f54b-016d98576a90"
   },
   "outputs": [
    {
     "data": {
      "image/png": "[encoded data removed]",
      "text/plain": [
       "<Figure size 640x480 with 1 Axes>"
      ]
     },
     "metadata": {},
     "output_type": "display_data"
    }
   ],
   "source": [
    "plt.hist(df['Sell'], bins=20, color='blue', edgecolor='black')\n",
    "plt.title('Histogram of Sell Prices')\n",
    "plt.xlabel('Sell')\n",
    "plt.ylabel('Frequency')\n",
    "plt.show()"
   ]
  },
  {
   "cell_type": "markdown",
   "metadata": {
    "id": "_F68jyyLQO5W"
   },
   "source": [
    "Observation: Sell variable is righ skewed"
   ]
  },
  {
   "cell_type": "markdown",
   "metadata": {
    "id": "oE5gxOVDQhKE"
   },
   "source": [
    "Analysis 3: Correlation matrix to understand correlation between different variables in the data set. So few can be considered for exclusion or suitable for dependent and independent analysis in regression."
   ]
  },
  {
   "cell_type": "code",
   "execution_count": 36,
   "metadata": {
    "colab": {
     "base_uri": "https://localhost:8080/"
    },
    "id": "d77tUd5WIFmQ",
    "outputId": "caa95a99-c961-47c7-8202-4016b38bd946"
   },
   "outputs": [
    {
     "name": "stdout",
     "output_type": "stream",
     "text": [
      "             Sell      List    Living     Rooms      Beds     Baths       Age  \\\n",
      "Sell     1.000000  0.997433  0.879381  0.560425  0.335113  0.640059 -0.147343   \n",
      " List    0.997433  1.000000  0.891618  0.570704  0.320470  0.640295 -0.130325   \n",
      " Living  0.879381  0.891618  1.000000  0.750933  0.467277  0.668437  0.125075   \n",
      " Rooms   0.560425  0.570704  0.750933  1.000000  0.656557  0.555187  0.371237   \n",
      " Beds    0.335113  0.320470  0.467277  0.656557  1.000000  0.458682  0.141205   \n",
      " Baths   0.640059  0.640295  0.668437  0.555187  0.458682  1.000000 -0.023063   \n",
      " Age    -0.147343 -0.130325  0.125075  0.371237  0.141205 -0.023063  1.000000   \n",
      " Acres   0.168713  0.166838  0.177488  0.282448  0.036832  0.301119  0.303733   \n",
      " Taxes   0.899339  0.906636  0.810243  0.516593  0.313638  0.582622 -0.189221   \n",
      "\n",
      "            Acres     Taxes  \n",
      "Sell     0.168713  0.899339  \n",
      " List    0.166838  0.906636  \n",
      " Living  0.177488  0.810243  \n",
      " Rooms   0.282448  0.516593  \n",
      " Beds    0.036832  0.313638  \n",
      " Baths   0.301119  0.582622  \n",
      " Age     0.303733 -0.189221  \n",
      " Acres   1.000000  0.059647  \n",
      " Taxes   0.059647  1.000000  \n"
     ]
    }
   ],
   "source": [
    "correlation_matrix = df.corr()\n",
    "print(correlation_matrix)"
   ]
  },
  {
   "cell_type": "markdown",
   "metadata": {
    "id": "zroba-JDRMCA"
   },
   "source": []
  },
  {
   "cell_type": "markdown",
   "metadata": {
    "id": "-zae2oy_Rk7o"
   },
   "source": [
    "Observation: List price has strong correlation to Sell. Age has -ve correlation but again weak. Acres also found to have weak positive correlation with Sell price."
   ]
  },
  {
   "cell_type": "markdown",
   "metadata": {
    "id": "5vPJVZcDUeuH"
   },
   "source": [
    "Using Taxes as the independent variable and Sell as the dependent variable, fit a linear regression model and display the output from the mode"
   ]
  },
  {
   "cell_type": "code",
   "execution_count": 85,
   "metadata": {},
   "outputs": [
    {
     "name": "stdout",
     "output_type": "stream",
     "text": [
      "                            OLS Regression Results                            \n",
      "==============================================================================\n",
      "Dep. Variable:                   Sell   R-squared:                       0.809\n",
      "Model:                            OLS   Adj. R-squared:                  0.805\n",
      "Method:                 Least Squares   F-statistic:                     203.1\n",
      "Date:                Wed, 21 Feb 2024   Prob (F-statistic):           7.22e-19\n",
      "Time:                        21:56:46   Log-Likelihood:                -243.44\n",
      "No. Observations:                  50   AIC:                             490.9\n",
      "Df Residuals:                      48   BIC:                             494.7\n",
      "Df Model:                           1                                         \n",
      "Covariance Type:            nonrobust                                         \n",
      "==============================================================================\n",
      "                 coef    std err          t      P>|t|      [0.025      0.975]\n",
      "------------------------------------------------------------------------------\n",
      "const         16.8719     11.691      1.443      0.155      -6.635      40.378\n",
      "Taxes          0.0414      0.003     14.250      0.000       0.036       0.047\n",
      "==============================================================================\n",
      "Omnibus:                       28.767   Durbin-Watson:                   2.121\n",
      "Prob(Omnibus):                  0.000   Jarque-Bera (JB):               59.574\n",
      "Skew:                           1.690   Prob(JB):                     1.16e-13\n",
      "Kurtosis:                       7.144   Cond. No.                     1.03e+04\n",
      "==============================================================================\n",
      "\n",
      "Notes:\n",
      "[1] Standard Errors assume that the covariance matrix of the errors is correctly specified.\n",
      "[2] The condition number is large, 1.03e+04. This might indicate that there are\n",
      "strong multicollinearity or other numerical problems.\n"
     ]
    }
   ],
   "source": [
    "import statsmodels.api as sm\n",
    "\n",
    "\n",
    "X = df['Taxes']  # Independent variable\n",
    "y = df['Sell']   # Dependent variable\n",
    "\n",
    "X = sm.add_constant(X)  # Add a constant term to the independent variable\n",
    "model = sm.OLS(y, X).fit()  # Fit the ordinary least squares (OLS) model\n",
    "print(model.summary())  # Display the regression results"
   ]
  },
  {
   "cell_type": "markdown",
   "metadata": {},
   "source": [
    "Observation: Adjusted R value of 80.5 is considered good to establish impact on Selling price as dependent variable when Taxes change. Taxes can be good predictor of Selling price in this dataset\n",
    "- P-value is < 0.05 significance. Hence it can be considered as good predictor."
   ]
  },
  {
   "cell_type": "code",
   "execution_count": 86,
   "metadata": {},
   "outputs": [
    {
     "name": "stdout",
     "output_type": "stream",
     "text": [
      "                            OLS Regression Results                            \n",
      "==============================================================================\n",
      "Dep. Variable:                   Sell   R-squared:                       0.314\n",
      "Model:                            OLS   Adj. R-squared:                  0.300\n",
      "Method:                 Least Squares   F-statistic:                     21.98\n",
      "Date:                Wed, 21 Feb 2024   Prob (F-statistic):           2.31e-05\n",
      "Time:                        21:59:57   Log-Likelihood:                -275.37\n",
      "No. Observations:                  50   AIC:                             554.7\n",
      "Df Residuals:                      48   BIC:                             558.6\n",
      "Df Model:                           1                                         \n",
      "Covariance Type:            nonrobust                                         \n",
      "==============================================================================\n",
      "                 coef    std err          t      P>|t|      [0.025      0.975]\n",
      "------------------------------------------------------------------------------\n",
      "const        -85.5335     55.258     -1.548      0.128    -196.637      25.570\n",
      "Rooms         31.7486      6.772      4.688      0.000      18.132      45.365\n",
      "==============================================================================\n",
      "Omnibus:                       52.210   Durbin-Watson:                   1.919\n",
      "Prob(Omnibus):                  0.000   Jarque-Bera (JB):              317.230\n",
      "Skew:                           2.607   Prob(JB):                     1.30e-69\n",
      "Kurtosis:                      14.184   Cond. No.                         53.1\n",
      "==============================================================================\n",
      "\n",
      "Notes:\n",
      "[1] Standard Errors assume that the covariance matrix of the errors is correctly specified.\n"
     ]
    }
   ],
   "source": [
    "import statsmodels.api as sm\n",
    "\n",
    "# Assuming 'df' is your DataFrame\n",
    "X = df['Rooms']  # Independent variable\n",
    "y = df['Sell']   # Dependent variable\n",
    "\n",
    "X = sm.add_constant(X)  # Add a constant term to the independent variable\n",
    "model = sm.OLS(y, X).fit()  # Fit the ordinary least squares (OLS) model\n",
    "print(model.summary())  # Display the regression results"
   ]
  },
  {
   "cell_type": "markdown",
   "metadata": {},
   "source": [
    "Observation: Adjusted R of 30 % is not good enough as a model statistics. And model based on Rooms is not prefered compared to above model with Taxes as independent variable.\n",
    "\n",
    "Limitation: Collinearity between independent variables can impact the accuracy. And in case we miss any relevant variable the results are not accurate."
   ]
  }
 ],
 "metadata": {
  "colab": {
   "provenance": []
  },
  "kernelspec": {
   "display_name": "Python 3 (ipykernel)",
   "language": "python",
   "name": "python3"
  },
  "language_info": {
   "codemirror_mode": {
    "name": "ipython",
    "version": 3
   },
   "file_extension": ".py",
   "mimetype": "text/x-python",
   "name": "python",
   "nbconvert_exporter": "python",
   "pygments_lexer": "ipython3",
   "version": "3.11.5"
  }
 },
 "nbformat": 4,
 "nbformat_minor": 1
}
